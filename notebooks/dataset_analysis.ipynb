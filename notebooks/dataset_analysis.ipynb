{
 "cells": [
  {
   "cell_type": "code",
   "id": "f81092e3-862b-44cf-987d-59387026bd99",
   "metadata": {
    "ExecuteTime": {
     "end_time": "2025-01-12T11:39:42.078617Z",
     "start_time": "2025-01-12T11:39:42.075990Z"
    }
   },
   "source": [
    "import json"
   ],
   "outputs": [],
   "execution_count": 1
  },
  {
   "cell_type": "code",
   "id": "e9196e70-b5cf-49b2-b9b4-6256d08060d0",
   "metadata": {
    "ExecuteTime": {
     "end_time": "2025-01-12T11:55:06.496338Z",
     "start_time": "2025-01-12T11:55:06.489985Z"
    }
   },
   "source": [
    "with open('../data/synthetic_dialogues/v2/dialogues.json') as f:\n",
    "    data = json.load(f)['dialogues']\n",
    "\n",
    "with open('../data/synthetic_dialogues/v2/scenarios.json') as f:\n",
    "    scenarios = json.load(f)['scenarios']"
   ],
   "outputs": [],
   "execution_count": 18
  },
  {
   "cell_type": "code",
   "id": "817f5744-6d2b-4536-ba68-80aef7b10899",
   "metadata": {
    "ExecuteTime": {
     "end_time": "2025-01-12T11:55:08.993012Z",
     "start_time": "2025-01-12T11:55:08.989490Z"
    }
   },
   "source": [
    "# количсетво сценариев\n",
    "len(scenarios)"
   ],
   "outputs": [
    {
     "data": {
      "text/plain": [
       "10"
      ]
     },
     "execution_count": 19,
     "metadata": {},
     "output_type": "execute_result"
    }
   ],
   "execution_count": 19
  },
  {
   "cell_type": "code",
   "id": "09ba5cef-6e88-49a2-b37e-3f2f9ca44684",
   "metadata": {
    "ExecuteTime": {
     "end_time": "2025-01-12T11:55:09.317196Z",
     "start_time": "2025-01-12T11:55:09.314201Z"
    }
   },
   "source": [
    "# количсетво диалогов\n",
    "len(data)"
   ],
   "outputs": [
    {
     "data": {
      "text/plain": [
       "20"
      ]
     },
     "execution_count": 20,
     "metadata": {},
     "output_type": "execute_result"
    }
   ],
   "execution_count": 20
  },
  {
   "cell_type": "code",
   "id": "63f314d0-4ad6-4264-9f59-402b594df1d7",
   "metadata": {
    "ExecuteTime": {
     "end_time": "2025-01-12T11:55:10.034079Z",
     "start_time": "2025-01-12T11:55:10.031536Z"
    }
   },
   "source": [
    "def print_dialogue(dialogue):\n",
    "    for item in dialogue:\n",
    "        print(f\"{item['role'].upper()}:  {item['content']}\\n\")"
   ],
   "outputs": [],
   "execution_count": 21
  },
  {
   "metadata": {
    "ExecuteTime": {
     "end_time": "2025-01-12T11:57:41.423441Z",
     "start_time": "2025-01-12T11:57:41.420757Z"
    }
   },
   "cell_type": "code",
   "source": "data[8]",
   "id": "c53be61a06e00f46",
   "outputs": [
    {
     "data": {
      "text/plain": [
       "{'dialogue': [{'role': 'first',\n",
       "   'content': \"Hi there! It's so lovely to see you today. How have you been?\"},\n",
       "  {'role': 'second',\n",
       "   'content': \"Hello! It's nice to see you, too. I've been doing alright. How about you?\"},\n",
       "  {'role': 'first',\n",
       "   'content': \"I'm doing really well, thank you! I'm actually quite excited today because I just finished knitting a sweater for my youngest granddaughter. I can't wait to show it to everyone at the knitting group. And Doris and I have been planning a little knitting exhibition—something to bring the community together. It feels wonderful to have something like this to look forward to. How's your week been?\"},\n",
       "  {'role': 'second',\n",
       "   'content': \"That's great to hear about the sweater and the exhibition plans. My week has been pretty standard, nothing much to report. \"},\n",
       "  {'role': 'first',\n",
       "   'content': 'Sometimes a quiet week can be nice. Do you think you might be able to come to our knitting exhibition? It would be lovely to have you there, and you might find some interesting crafts on display!'},\n",
       "  {'role': 'second',\n",
       "   'content': \"I might be able to make it, I'll have to check my schedule. What kind of crafts are you planning to display?\"},\n",
       "  {'role': 'first',\n",
       "   'content': \"We’re planning to showcase a variety of knitted items. Of course, there'll be sweaters, scarves, and hats, but also some more unique pieces like decorative throws and maybe even a few knitted toys. Doris has been working on some lovely baby blankets, too. It should be a fun mix!\"},\n",
       "  {'role': 'second',\n",
       "   'content': \"Sounds like a good variety. It should be interesting to see all the different projects. Let me know when it’s happening, and I'll see if I can drop by.\"},\n",
       "  {'role': 'first',\n",
       "   'content': \"Absolutely, I'll make sure to send you all the details once we have everything finalized. It would be wonderful to have you there. Thanks for considering it!\"},\n",
       "  {'role': 'second',\n",
       "   'content': 'Sure thing, just let me know when it’s all set. Hope it goes well.'},\n",
       "  {'role': 'first',\n",
       "   'content': \"Thank you! I really appreciate your support. I'll keep you updated. It means a lot to me to have friends like you who show an interest.\"},\n",
       "  {'role': 'second',\n",
       "   'content': 'No problem, just keep me in the loop. Looking forward to hearing more about it.'}],\n",
       " 'alt_last_utterance': \"You're very welcome! I'm glad to support you, and I'm sure the exhibition will be a great success. Looking forward to hearing more about it!\",\n",
       " 'emotion': 'happiness',\n",
       " 'scenario_id': 4,\n",
       " 'empathy_label': 0,\n",
       " 'id': 8}"
      ]
     },
     "execution_count": 28,
     "metadata": {},
     "output_type": "execute_result"
    }
   ],
   "execution_count": 28
  },
  {
   "cell_type": "code",
   "execution_count": 7,
   "id": "fb92761a-8d92-40e2-8345-721c60f9fb9a",
   "metadata": {},
   "source": [
    "def show_generated_dialogues(scenario_id):\n",
    "    current_scenario_empathetic_dialogues = [item for item in empathetic_data if item['scenario_id'] == scenario_id]\n",
    "    current_scenario_non_empathetic_dialogues = [item for item in non_empathetic_data if item['scenario_id'] == scenario_id]\n",
    "    print(f\"Emotion: {scenarios[scenario_id]['emotion']}\\n\")\n",
    "    print(f\"Scenario:\\n{scenarios[scenario_id]['scenario']['main']}\\n\\n\")\n",
    "    print('Empathetic: \\n')\n",
    "    print_dialogue(current_scenario_empathetic_dialogues[2]['dialogue'])\n",
    "    print('#' * 60, '\\n\\n')\n",
    "    print('Unempathetic: \\n')\n",
    "    print_dialogue(current_scenario_non_empathetic_dialogues[2]['dialogue'])"
   ],
   "outputs": []
  },
  {
   "cell_type": "markdown",
   "id": "ff2289a9-2203-43d8-b1c1-c783ea5d4c21",
   "metadata": {},
   "source": [
    "Ниже некоторые примеры диалогов. Внешне эмпатичные диалог выглядят действительно хорошо, а неэмпатичные по стилю общения напоминают Шелдона Купера"
   ]
  },
  {
   "cell_type": "code",
   "execution_count": 8,
   "id": "f3c6f39d-9361-4f7b-9588-b41b88aa5e17",
   "metadata": {},
   "source": [
    "show_generated_dialogues(0)"
   ],
   "outputs": []
  },
  {
   "cell_type": "code",
   "execution_count": 9,
   "id": "cbee888d-f3ed-4fff-bdf2-b52712c9ab38",
   "metadata": {},
   "source": [
    "show_generated_dialogues(1)"
   ],
   "outputs": []
  },
  {
   "cell_type": "code",
   "execution_count": 10,
   "id": "eca50938-d6e5-48fc-a1ad-89d9d58005f3",
   "metadata": {},
   "source": [
    "show_generated_dialogues(2)"
   ],
   "outputs": []
  },
  {
   "cell_type": "code",
   "execution_count": 11,
   "id": "f022ac79-e6f7-4b1f-a208-1a98988d3dec",
   "metadata": {},
   "source": [
    "show_generated_dialogues(3)"
   ],
   "outputs": []
  },
  {
   "cell_type": "code",
   "execution_count": 12,
   "id": "8701c318-c797-483e-8471-059cdf36e020",
   "metadata": {},
   "source": [
    "show_generated_dialogues(28)"
   ],
   "outputs": []
  },
  {
   "cell_type": "code",
   "execution_count": null,
   "id": "42190f4b-ed31-405b-a096-c20d7db9b576",
   "metadata": {},
   "source": [],
   "outputs": []
  },
  {
   "cell_type": "code",
   "execution_count": null,
   "id": "be16999b-2e10-49ec-9818-48670cc50ab5",
   "metadata": {},
   "source": [],
   "outputs": []
  }
 ],
 "metadata": {
  "kernelspec": {
   "display_name": "Python 3 (ipykernel)",
   "language": "python",
   "name": "python3"
  },
  "language_info": {
   "codemirror_mode": {
    "name": "ipython",
    "version": 3
   },
   "file_extension": ".py",
   "mimetype": "text/x-python",
   "name": "python",
   "nbconvert_exporter": "python",
   "pygments_lexer": "ipython3",
   "version": "3.10.10"
  }
 },
 "nbformat": 4,
 "nbformat_minor": 5
}
