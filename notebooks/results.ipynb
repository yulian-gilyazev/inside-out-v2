{
 "cells": [
  {
   "cell_type": "code",
   "execution_count": 27,
   "id": "e1df5607-a91d-47f6-beae-754dfc0b5136",
   "metadata": {},
   "outputs": [],
   "source": [
    "import sys\n",
    "sys.path.insert(0, '../')"
   ]
  },
  {
   "cell_type": "code",
   "execution_count": 45,
   "id": "b1204e76-38ff-463d-b61f-87f877b62174",
   "metadata": {},
   "outputs": [],
   "source": [
    "import json\n",
    "import pandas as pd\n",
    "import numpy as np\n",
    "from src.agent import Pipeline, PipelineAgentConfig, IOAgent, AgentContext, registry\n",
    "from src.llm_client import LLMClient\n",
    "from src.schema.llm_config import LLMConfig\n",
    "from src.utils.data import SyntheticEmotionDataset"
   ]
  },
  {
   "cell_type": "code",
   "execution_count": 29,
   "id": "a6933d18-84c9-4628-8c03-cdf9984ddd54",
   "metadata": {},
   "outputs": [],
   "source": [
    "with open(\"../configs/gpt_4o_mini_config.json\", \"r\") as f:\n",
    "    config_dct = json.load(f)\n",
    "llm_config = LLMConfig.from_dict(config_dct)\n",
    "llm_client = LLMClient(llm_config)"
   ]
  },
  {
   "cell_type": "code",
   "execution_count": 30,
   "id": "ccd71486-6263-4a29-b947-d7b987ef1017",
   "metadata": {},
   "outputs": [],
   "source": [
    "dset = SyntheticEmotionDataset([\"../data/synthetic_dialogues/empathetic_dialogues.json\",\n",
    "                                \"../data/synthetic_dialogues/non_empathetic_dialogues.json\"],\n",
    "                               [1, 0], \"../data/synthetic_dialogues/scenarios.json\")"
   ]
  },
  {
   "cell_type": "code",
   "execution_count": 31,
   "id": "213fc4fc-69c9-4ef9-aa80-796c426380c7",
   "metadata": {},
   "outputs": [],
   "source": [
    "gt_emotion = [dset[i][0].emotion.value for i in range(200)]"
   ]
  },
  {
   "cell_type": "code",
   "execution_count": 39,
   "id": "4b3f6161-77d7-4108-a5eb-c5d89d64f062",
   "metadata": {},
   "outputs": [],
   "source": [
    "with open(\"../data/baseline_erc_results.json\", \"r\") as f:\n",
    "    data = json.load(f)[\"predictions\"]\n",
    "baseline_predicitons = [i['predicted'].split(';')[0].lower() for i in data]\n",
    "with open(\"../data/inside_out_v1_erc_results.json\", \"r\") as f:\n",
    "    data = json.load(f)[\"predictions\"]\n",
    "inside_out_predictions = [i['predicted'].split(';')[0].lower() for i in data]\n",
    "with open(\"../data/self_consistency_erc_results.json\", \"r\") as f:\n",
    "    data = json.load(f)[\"predictions\"]\n",
    "self_consistency_predictions = [i['predicted'].split(';')[0].lower() for i in data]"
   ]
  },
  {
   "cell_type": "code",
   "execution_count": 40,
   "id": "de4aad69-4c49-4435-83e7-576b2f79e516",
   "metadata": {},
   "outputs": [],
   "source": [
    "def accuracy(gt, pred):\n",
    "    mask = [u == v for u, v in zip(gt, pred)]\n",
    "    return np.array(mask).mean()"
   ]
  },
  {
   "cell_type": "code",
   "execution_count": 49,
   "id": "53be3cdb-c8a7-4f35-a77d-4810042865b2",
   "metadata": {},
   "outputs": [
    {
     "data": {
      "text/html": [
       "<div>\n",
       "<style scoped>\n",
       "    .dataframe tbody tr th:only-of-type {\n",
       "        vertical-align: middle;\n",
       "    }\n",
       "\n",
       "    .dataframe tbody tr th {\n",
       "        vertical-align: top;\n",
       "    }\n",
       "\n",
       "    .dataframe thead th {\n",
       "        text-align: right;\n",
       "    }\n",
       "</style>\n",
       "<table border=\"1\" class=\"dataframe\">\n",
       "  <thead>\n",
       "    <tr style=\"text-align: right;\">\n",
       "      <th></th>\n",
       "      <th>inside-out</th>\n",
       "      <th>baseline</th>\n",
       "      <th>self consistency</th>\n",
       "    </tr>\n",
       "  </thead>\n",
       "  <tbody>\n",
       "    <tr>\n",
       "      <th>0</th>\n",
       "      <td>0.59</td>\n",
       "      <td>0.475</td>\n",
       "      <td>0.475</td>\n",
       "    </tr>\n",
       "  </tbody>\n",
       "</table>\n",
       "</div>"
      ],
      "text/plain": [
       "   inside-out  baseline  self consistency\n",
       "0        0.59     0.475             0.475"
      ]
     },
     "execution_count": 49,
     "metadata": {},
     "output_type": "execute_result"
    }
   ],
   "source": [
    "results = {\n",
    "    \"inside-out\": accuracy(gt_emotion, inside_out_predictions),\n",
    "    \"baseline\": accuracy(gt_emotion, baseline_predicitons), \n",
    "    \"self consistency\": accuracy(gt_emotion, self_consistency_predictions)\n",
    "}\n",
    "results_df = pd.DataFrame([results])\n",
    "results_df"
   ]
  },
  {
   "cell_type": "code",
   "execution_count": null,
   "id": "70054816-9ced-4bbd-b6c0-9962d47e1a1a",
   "metadata": {},
   "outputs": [],
   "source": []
  }
 ],
 "metadata": {
  "kernelspec": {
   "display_name": "Python 3 (ipykernel)",
   "language": "python",
   "name": "python3"
  },
  "language_info": {
   "codemirror_mode": {
    "name": "ipython",
    "version": 3
   },
   "file_extension": ".py",
   "mimetype": "text/x-python",
   "name": "python",
   "nbconvert_exporter": "python",
   "pygments_lexer": "ipython3",
   "version": "3.10.10"
  }
 },
 "nbformat": 4,
 "nbformat_minor": 5
}
