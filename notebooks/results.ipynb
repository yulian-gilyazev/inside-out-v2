{
 "cells": [
  {
   "cell_type": "code",
   "execution_count": 27,
   "id": "e1df5607-a91d-47f6-beae-754dfc0b5136",
   "metadata": {},
   "source": [
    "import sys\n",
    "sys.path.insert(0, '../')"
   ],
   "outputs": []
  },
  {
   "cell_type": "code",
   "id": "b1204e76-38ff-463d-b61f-87f877b62174",
   "metadata": {
    "ExecuteTime": {
     "end_time": "2025-01-14T07:59:46.455587Z",
     "start_time": "2025-01-14T07:59:45.525278Z"
    }
   },
   "source": [
    "import json\n",
    "import pandas as pd\n",
    "import numpy as np\n",
    "from src.agent import Pipeline, PipelineAgentConfig, IOAgent, AgentContext, registry\n",
    "from src.llm_client import LLMClient\n",
    "from src.schema.llm_config import LLMConfig\n",
    "from src.utils.data import SyntheticEmotionDataset"
   ],
   "outputs": [],
   "execution_count": 2
  },
  {
   "cell_type": "code",
   "id": "a6933d18-84c9-4628-8c03-cdf9984ddd54",
   "metadata": {
    "ExecuteTime": {
     "end_time": "2025-01-14T07:59:47.353439Z",
     "start_time": "2025-01-14T07:59:47.338369Z"
    }
   },
   "source": [
    "with open(\"../configs/gpt_4o_mini_config.json\", \"r\") as f:\n",
    "    config_dct = json.load(f)\n",
    "llm_config = LLMConfig.from_dict(config_dct)\n",
    "llm_client = LLMClient(llm_config)"
   ],
   "outputs": [],
   "execution_count": 3
  },
  {
   "cell_type": "code",
   "id": "ccd71486-6263-4a29-b947-d7b987ef1017",
   "metadata": {
    "ExecuteTime": {
     "end_time": "2025-01-14T07:59:55.685311Z",
     "start_time": "2025-01-14T07:59:55.668851Z"
    }
   },
   "source": "dset = SyntheticEmotionDataset(\"../data/synthetic_dialogues/v2/dialogues.json\", \"../data/synthetic_dialogues/v2/scenarios.json\")",
   "outputs": [],
   "execution_count": 5
  },
  {
   "cell_type": "code",
   "id": "213fc4fc-69c9-4ef9-aa80-796c426380c7",
   "metadata": {
    "ExecuteTime": {
     "end_time": "2025-01-14T08:00:08.671550Z",
     "start_time": "2025-01-14T08:00:08.668841Z"
    }
   },
   "source": "gt_emotion = [dset[i].emotion.value for i in range(200)]",
   "outputs": [],
   "execution_count": 7
  },
  {
   "metadata": {
    "ExecuteTime": {
     "end_time": "2025-01-14T08:00:39.003326Z",
     "start_time": "2025-01-14T08:00:38.995487Z"
    }
   },
   "cell_type": "code",
   "source": [
    "with open(\"../data/baseline_erc_bert.json\", \"r\") as f:\n",
    "    data = json.load(f)[\"predictions\"]"
   ],
   "id": "a6397bffd136d068",
   "outputs": [],
   "execution_count": 8
  },
  {
   "metadata": {
    "ExecuteTime": {
     "end_time": "2025-01-14T08:02:44.414560Z",
     "start_time": "2025-01-14T08:02:44.407638Z"
    }
   },
   "cell_type": "code",
   "source": [
    "def get_argmax(res):\n",
    "    keys = list(res.keys())\n",
    "    values = list(res.values())\n",
    "    index_max = np.argmax(values)\n",
    "    return keys[index_max]"
   ],
   "id": "9b52d08a78b36c98",
   "outputs": [],
   "execution_count": 12
  },
  {
   "metadata": {
    "ExecuteTime": {
     "end_time": "2025-01-14T08:02:45.061292Z",
     "start_time": "2025-01-14T08:02:45.057574Z"
    }
   },
   "cell_type": "code",
   "source": "baseline_predictions = [get_argmax(item['prediction']) for item in  data[:200]]",
   "id": "8b5d6877d8214508",
   "outputs": [],
   "execution_count": 13
  },
  {
   "metadata": {
    "ExecuteTime": {
     "end_time": "2025-01-14T08:03:08.679487Z",
     "start_time": "2025-01-14T08:03:08.670117Z"
    }
   },
   "cell_type": "code",
   "source": [
    "with open(\"../data/inside_out_erc_results.json\", \"r\") as f:\n",
    "    data = json.load(f)[\"predictions\"]"
   ],
   "id": "46f8cee56883d886",
   "outputs": [],
   "execution_count": 15
  },
  {
   "metadata": {
    "ExecuteTime": {
     "end_time": "2025-01-14T08:03:51.660621Z",
     "start_time": "2025-01-14T08:03:51.658654Z"
    }
   },
   "cell_type": "code",
   "source": "predictions_inside_out = [item['prediction'].split('; ')[0].lower() for item in data]",
   "id": "aa6aedcd321695bf",
   "outputs": [],
   "execution_count": 19
  },
  {
   "cell_type": "code",
   "execution_count": 39,
   "id": "4b3f6161-77d7-4108-a5eb-c5d89d64f062",
   "metadata": {},
   "source": [
    "with open(\"../data/baseline_erc_results.json\", \"r\") as f:\n",
    "    data = json.load(f)[\"predictions\"]\n",
    "baseline_predicitons = [i['predicted'].split(';')[0].lower() for i in data]\n",
    "with open(\"../data/inside_out_v1_erc_results.json\", \"r\") as f:\n",
    "    data = json.load(f)[\"predictions\"]\n",
    "inside_out_predictions = [i['predicted'].split(';')[0].lower() for i in data]\n",
    "with open(\"../data/self_consistency_erc_results.json\", \"r\") as f:\n",
    "    data = json.load(f)[\"predictions\"]\n",
    "self_consistency_predictions = [i['predicted'].split(';')[0].lower() for i in data]"
   ],
   "outputs": []
  },
  {
   "metadata": {},
   "cell_type": "code",
   "outputs": [],
   "execution_count": null,
   "source": "baseline_predicitons",
   "id": "60c3d608da5dd686"
  },
  {
   "cell_type": "code",
   "id": "de4aad69-4c49-4435-83e7-576b2f79e516",
   "metadata": {
    "ExecuteTime": {
     "end_time": "2025-01-14T08:04:17.190250Z",
     "start_time": "2025-01-14T08:04:17.188078Z"
    }
   },
   "source": [
    "def accuracy(gt, pred):\n",
    "    mask = [u == v for u, v in zip(gt, pred)]\n",
    "    return np.array(mask).mean()"
   ],
   "outputs": [],
   "execution_count": 22
  },
  {
   "cell_type": "code",
   "execution_count": 49,
   "id": "53be3cdb-c8a7-4f35-a77d-4810042865b2",
   "metadata": {},
   "source": [
    "results = {\n",
    "    \"inside-out\": accuracy(gt_emotion, inside_out_predictions),\n",
    "    \"baseline\": accuracy(gt_emotion, baseline_predicitons), \n",
    "    \"self consistency\": accuracy(gt_emotion, self_consistency_predictions)\n",
    "}\n",
    "results_df = pd.DataFrame([results])\n",
    "results_df"
   ],
   "outputs": []
  },
  {
   "cell_type": "code",
   "id": "70054816-9ced-4bbd-b6c0-9962d47e1a1a",
   "metadata": {
    "ExecuteTime": {
     "end_time": "2025-01-14T08:04:18.323183Z",
     "start_time": "2025-01-14T08:04:18.320204Z"
    }
   },
   "source": "accuracy(gt_emotion, predictions_inside_out)",
   "outputs": [
    {
     "data": {
      "text/plain": [
       "0.735"
      ]
     },
     "execution_count": 23,
     "metadata": {},
     "output_type": "execute_result"
    }
   ],
   "execution_count": 23
  },
  {
   "metadata": {
    "ExecuteTime": {
     "end_time": "2025-01-14T08:04:27.670952Z",
     "start_time": "2025-01-14T08:04:27.660828Z"
    }
   },
   "cell_type": "code",
   "source": "accuracy(gt_emotion, baseline_predictions)",
   "id": "cca15900b3cae9f6",
   "outputs": [
    {
     "data": {
      "text/plain": [
       "0.645"
      ]
     },
     "execution_count": 24,
     "metadata": {},
     "output_type": "execute_result"
    }
   ],
   "execution_count": 24
  },
  {
   "metadata": {},
   "cell_type": "code",
   "outputs": [],
   "execution_count": null,
   "source": "bert baseline: 0.735, inside out: 0.735",
   "id": "54abb084506cbb5"
  }
 ],
 "metadata": {
  "kernelspec": {
   "display_name": "Python 3 (ipykernel)",
   "language": "python",
   "name": "python3"
  },
  "language_info": {
   "codemirror_mode": {
    "name": "ipython",
    "version": 3
   },
   "file_extension": ".py",
   "mimetype": "text/x-python",
   "name": "python",
   "nbconvert_exporter": "python",
   "pygments_lexer": "ipython3",
   "version": "3.10.10"
  }
 },
 "nbformat": 4,
 "nbformat_minor": 5
}
